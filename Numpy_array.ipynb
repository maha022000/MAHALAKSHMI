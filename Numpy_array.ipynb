{
  "nbformat": 4,
  "nbformat_minor": 0,
  "metadata": {
    "colab": {
      "provenance": [],
      "authorship_tag": "ABX9TyPQuEByb1+NcR6DU4KsvG08",
      "include_colab_link": true
    },
    "kernelspec": {
      "name": "python3",
      "display_name": "Python 3"
    },
    "language_info": {
      "name": "python"
    }
  },
  "cells": [
    {
      "cell_type": "markdown",
      "metadata": {
        "id": "view-in-github",
        "colab_type": "text"
      },
      "source": [
        "<a href=\"https://colab.research.google.com/github/maha022000/MAHALAKSHMI/blob/Data-science--projects/Numpy_array.ipynb\" target=\"_parent\"><img src=\"https://colab.research.google.com/assets/colab-badge.svg\" alt=\"Open In Colab\"/></a>"
      ]
    },
    {
      "cell_type": "code",
      "execution_count": null,
      "metadata": {
        "id": "zcOl3WV_cc9l"
      },
      "outputs": [],
      "source": []
    },
    {
      "cell_type": "markdown",
      "source": [
        "Write a Python program that prints odd numbers from 1 to 30 using the NumPy\n",
        "array. Also, print the data type of output."
      ],
      "metadata": {
        "id": "2Z6Vf3ODcefb"
      }
    },
    {
      "cell_type": "code",
      "source": [
        "import numpy as np\n",
        "a=np.arange(1,30,2)\n",
        "print(a)\n",
        "print(type(a))"
      ],
      "metadata": {
        "colab": {
          "base_uri": "https://localhost:8080/"
        },
        "id": "yNUm0QPqcmbS",
        "outputId": "7426a82b-efd9-418c-bcc7-aefe16febf12"
      },
      "execution_count": null,
      "outputs": [
        {
          "output_type": "stream",
          "name": "stdout",
          "text": [
            "[ 1  3  5  7  9 11 13 15 17 19 21 23 25 27 29]\n",
            "<class 'numpy.ndarray'>\n"
          ]
        }
      ]
    },
    {
      "cell_type": "markdown",
      "source": [
        "Write a Python program to declare a list and NumPy arrays(1-D, 2-D, and 3-D)\n",
        "and compare the size of the list and the arrays. Also, compare the size of each\n",
        "element in the list and the arrays (in terms of memory occupancy). "
      ],
      "metadata": {
        "id": "R6hAbFoZdRot"
      }
    },
    {
      "cell_type": "code",
      "source": [
        "import numpy as np\n",
        "import sys\n",
        "a=[0,1,2,3,4,5,6,7,8,9]\n",
        "print(\"size of each element of list in bytes:\",sys.getsizeof(a[0]))\n",
        "print(\"size of the whole list in bytes:\",sys.getsizeof(a))\n",
        "array_size=10\n",
        "oneD=np.random.rand(array_size)\n",
        "TwoD=np.random.rand(array_size, 2)\n",
        "ThreeD=np.random.rand(array_size,3)\n",
        "print(\"size of each elements of the array in bytes:\",oneD.itemsize)\n",
        "print(\"size of the whole array in bytes:\",oneD.nbytes)\n",
        "print(\"size of each element of the array in bytes :\",TwoD.itemsize)\n",
        "print(\"size of whole array in bytes:\",TwoD.nbytes)\n",
        "print(\"size of each elements of the array in bytes :\",ThreeD.itemsize)\n",
        "print(\"size of whole array in bytes:\",ThreeD.nbytes)\n",
        "\n",
        "\n",
        "\n"
      ],
      "metadata": {
        "colab": {
          "base_uri": "https://localhost:8080/"
        },
        "id": "Gx6dW6codeb8",
        "outputId": "faaab744-394b-4e41-f46f-584b59b45246"
      },
      "execution_count": null,
      "outputs": [
        {
          "output_type": "stream",
          "name": "stdout",
          "text": [
            "size of each element of list in bytes: 24\n",
            "size of the whole list in bytes: 136\n",
            "size of each elements of the array in bytes: 8\n",
            "size of the whole array in bytes: 80\n",
            "size of each element of the array in bytes : 8\n",
            "size of whole array in bytes: 160\n",
            "size of each elements of the array in bytes : 8\n",
            "size of whole array in bytes: 240\n"
          ]
        }
      ]
    }
  ]
}