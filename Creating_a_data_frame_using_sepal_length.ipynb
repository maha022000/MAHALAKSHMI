{
  "nbformat": 4,
  "nbformat_minor": 0,
  "metadata": {
    "colab": {
      "provenance": [],
      "authorship_tag": "ABX9TyNTwAwYFJaVONvHv/wpQ3kW",
      "include_colab_link": true
    },
    "kernelspec": {
      "name": "python3",
      "display_name": "Python 3"
    },
    "language_info": {
      "name": "python"
    }
  },
  "cells": [
    {
      "cell_type": "markdown",
      "metadata": {
        "id": "view-in-github",
        "colab_type": "text"
      },
      "source": [
        "<a href=\"https://colab.research.google.com/github/maha022000/MAHALAKSHMI/blob/Data-science--projects/Creating_a_data_frame_using_sepal_length.ipynb\" target=\"_parent\"><img src=\"https://colab.research.google.com/assets/colab-badge.svg\" alt=\"Open In Colab\"/></a>"
      ]
    },
    {
      "cell_type": "code",
      "execution_count": null,
      "metadata": {
        "id": "YXdYzn2GodGg"
      },
      "outputs": [],
      "source": []
    },
    {
      "cell_type": "markdown",
      "source": [
        "Write a Python program that reads the “iris.csv” dataset (Available on LMS) into\n",
        "a DataFrame, and filters the rows on the condition that “sepal length” should be\n",
        "more than or equal to 6cm. Write the filtered rows in a new DataFrame, and\n",
        "save the new DataFrame as a CSV file."
      ],
      "metadata": {
        "id": "ZQaYEVJBoeDE"
      }
    },
    {
      "cell_type": "code",
      "source": [
        "import pandas as pd\n",
        "s=pd.read_csv(\"Iris.csv\")\n",
        "print(\"Original Data Frame is: \")\n",
        "print(s)\n",
        "x=(s[\"SepalLengthCm\"]>=6)\n",
        "print(x)\n",
        "new=(s[x])\n",
        "print(new)\n",
        "print(new.to_csv(\"new iris.csv\"))\n"
      ],
      "metadata": {
        "colab": {
          "base_uri": "https://localhost:8080/"
        },
        "id": "nGe0qjH8otlS",
        "outputId": "abff652f-b728-43a2-a963-2101a6dc5ca4"
      },
      "execution_count": null,
      "outputs": [
        {
          "output_type": "stream",
          "name": "stdout",
          "text": [
            "Original Data F  rame is: \n",
            "      Id  SepalLengthCm  SepalWidthCm  PetalLengthCm  PetalWidthCm  \\\n",
            "0      1            5.1           3.5            1.4           0.2   \n",
            "1      2            4.9           3.0            1.4           0.2   \n",
            "2      3            4.7           3.2            1.3           0.2   \n",
            "3      4            4.6           3.1            1.5           0.2   \n",
            "4      5            5.0           3.6            1.4           0.2   \n",
            "..   ...            ...           ...            ...           ...   \n",
            "145  146            6.7           3.0            5.2           2.3   \n",
            "146  147            6.3           2.5            5.0           1.9   \n",
            "147  148            6.5           3.0            5.2           2.0   \n",
            "148  149            6.2           3.4            5.4           2.3   \n",
            "149  150            5.9           3.0            5.1           1.8   \n",
            "\n",
            "            Species  \n",
            "0       Iris-setosa  \n",
            "1       Iris-setosa  \n",
            "2       Iris-setosa  \n",
            "3       Iris-setosa  \n",
            "4       Iris-setosa  \n",
            "..              ...  \n",
            "145  Iris-virginica  \n",
            "146  Iris-virginica  \n",
            "147  Iris-virginica  \n",
            "148  Iris-virginica  \n",
            "149  Iris-virginica  \n",
            "\n",
            "[150 rows x 6 columns]\n",
            "0      False\n",
            "1      False\n",
            "2      False\n",
            "3      False\n",
            "4      False\n",
            "       ...  \n",
            "145     True\n",
            "146     True\n",
            "147     True\n",
            "148     True\n",
            "149    False\n",
            "Name: SepalLengthCm, Length: 150, dtype: bool\n",
            "      Id  SepalLengthCm  SepalWidthCm  PetalLengthCm  PetalWidthCm  \\\n",
            "50    51            7.0           3.2            4.7           1.4   \n",
            "51    52            6.4           3.2            4.5           1.5   \n",
            "52    53            6.9           3.1            4.9           1.5   \n",
            "54    55            6.5           2.8            4.6           1.5   \n",
            "56    57            6.3           3.3            4.7           1.6   \n",
            "..   ...            ...           ...            ...           ...   \n",
            "144  145            6.7           3.3            5.7           2.5   \n",
            "145  146            6.7           3.0            5.2           2.3   \n",
            "146  147            6.3           2.5            5.0           1.9   \n",
            "147  148            6.5           3.0            5.2           2.0   \n",
            "148  149            6.2           3.4            5.4           2.3   \n",
            "\n",
            "             Species  \n",
            "50   Iris-versicolor  \n",
            "51   Iris-versicolor  \n",
            "52   Iris-versicolor  \n",
            "54   Iris-versicolor  \n",
            "56   Iris-versicolor  \n",
            "..               ...  \n",
            "144   Iris-virginica  \n",
            "145   Iris-virginica  \n",
            "146   Iris-virginica  \n",
            "147   Iris-virginica  \n",
            "148   Iris-virginica  \n",
            "\n",
            "[67 rows x 6 columns]\n",
            "None\n"
          ]
        }
      ]
    }
  ]
}