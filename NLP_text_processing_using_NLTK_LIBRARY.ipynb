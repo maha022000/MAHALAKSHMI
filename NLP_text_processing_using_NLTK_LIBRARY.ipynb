{
  "nbformat": 4,
  "nbformat_minor": 0,
  "metadata": {
    "colab": {
      "provenance": [],
      "authorship_tag": "ABX9TyM6zem/G9RWxp2L57yySbTF",
      "include_colab_link": true
    },
    "kernelspec": {
      "name": "python3",
      "display_name": "Python 3"
    },
    "language_info": {
      "name": "python"
    }
  },
  "cells": [
    {
      "cell_type": "markdown",
      "metadata": {
        "id": "view-in-github",
        "colab_type": "text"
      },
      "source": [
        "<a href=\"https://colab.research.google.com/github/maha022000/MAHALAKSHMI/blob/Data-science--projects/NLP_text_processing_using_NLTK_LIBRARY.ipynb\" target=\"_parent\"><img src=\"https://colab.research.google.com/assets/colab-badge.svg\" alt=\"Open In Colab\"/></a>"
      ]
    },
    {
      "cell_type": "markdown",
      "source": [
        "Q1. Problem Statement: NLP text processing\n",
        "Write a Python program that reads the demotext.txt text file (provided on LMS).\n",
        "The following are the tasks that are to be taken into consideration while\n",
        "constructing the solution for text processing using the NLTK library.\n",
        "1. Load the demotext.txt text file into a variable and then close the file\n",
        "2. Do word-wise tokenization list out generated tokens\n",
        "3. Transform each token into a small case\n",
        "4. Remove stop words from the generated token list\n",
        "5. Remove extra symbols like commas, full stops, and question marks using a\n",
        "regular expression tokenizer and store them in another variable\n",
        "6. Do bigram and trigram for generated tokens"
      ],
      "metadata": {
        "id": "SB3xJflwJ7t0"
      }
    },
    {
      "cell_type": "code",
      "source": [
        "import nltk\n",
        "from nltk import word_tokenize"
      ],
      "metadata": {
        "id": "qZptl6uYKErB"
      },
      "execution_count": null,
      "outputs": []
    },
    {
      "cell_type": "code",
      "source": [
        "#The download function will help in downloading the corporas present in the nltk library\n",
        "#nltk.download()\n",
        "from nltk.corpus import reuters\n",
        "from nltk.tokenize import RegexpTokenizer"
      ],
      "metadata": {
        "id": "65y_VLwhKHS2"
      },
      "execution_count": null,
      "outputs": []
    },
    {
      "cell_type": "markdown",
      "source": [
        "Download punkt"
      ],
      "metadata": {
        "id": "LJBu_jk8KRo1"
      }
    },
    {
      "cell_type": "code",
      "source": [
        "nltk.download('punkt')\n",
        "\n",
        "nltk.download('stopwords')"
      ],
      "metadata": {
        "colab": {
          "base_uri": "https://localhost:8080/"
        },
        "id": "wBbNVOqBKWQM",
        "outputId": "53329250-3158-4efe-d24e-0ea572049866"
      },
      "execution_count": null,
      "outputs": [
        {
          "output_type": "stream",
          "name": "stderr",
          "text": [
            "[nltk_data] Downloading package punkt to /root/nltk_data...\n",
            "[nltk_data]   Unzipping tokenizers/punkt.zip.\n",
            "[nltk_data] Downloading package stopwords to /root/nltk_data...\n",
            "[nltk_data]   Unzipping corpora/stopwords.zip.\n"
          ]
        },
        {
          "output_type": "execute_result",
          "data": {
            "text/plain": [
              "True"
            ]
          },
          "metadata": {},
          "execution_count": 3
        }
      ]
    },
    {
      "cell_type": "markdown",
      "source": [
        "Load given text file into variable"
      ],
      "metadata": {
        "id": "OSl4sYMbKZr9"
      }
    },
    {
      "cell_type": "code",
      "source": [
        "f=open('demotext.txt','rt')\n",
        "text=f.read()\n",
        "f.close()\n",
        "print(text)"
      ],
      "metadata": {
        "colab": {
          "base_uri": "https://localhost:8080/"
        },
        "id": "JB70IEkrKdPl",
        "outputId": "e77bd792-ef88-40fd-d368-ff632ab84d0a"
      },
      "execution_count": null,
      "outputs": [
        {
          "output_type": "stream",
          "name": "stdout",
          "text": [
            "What is Lorem Ipsum?\n",
            "\n",
            "Lorem Ipsum is simply dummy text of the printing and \n",
            "typesetting industry. Lorem Ipsum has been the industry's \n",
            "standard dummy text ever since the 1500s, when an unknown \n",
            "printer took a galley of type and scrambled it to make a \n",
            "type specimen book. It has survived not only five centuries, \n",
            "but also the leap into electronic typesetting, \n",
            "remaining essentially unchanged. \n",
            "\n",
            "It was popularised in the 1960s with the release of Letraset \n",
            "sheets containing Lorem Ipsum passages, and more recently \n",
            "with desktop publishing software like Aldus PageMaker \n",
            "including versions of Lorem Ipsum.\n"
          ]
        }
      ]
    },
    {
      "cell_type": "markdown",
      "source": [
        "Generate token using Word tokenizer"
      ],
      "metadata": {
        "id": "5ESwyLs4Kg4N"
      }
    },
    {
      "cell_type": "code",
      "source": [
        "nlkt_tokens=nltk.word_tokenize(text)\n",
        "print(nlkt_tokens)"
      ],
      "metadata": {
        "colab": {
          "base_uri": "https://localhost:8080/"
        },
        "id": "Ns0g9KawKjnz",
        "outputId": "ef03e682-2203-4d3b-aa42-05919e4a573f"
      },
      "execution_count": null,
      "outputs": [
        {
          "output_type": "stream",
          "name": "stdout",
          "text": [
            "['What', 'is', 'Lorem', 'Ipsum', '?', 'Lorem', 'Ipsum', 'is', 'simply', 'dummy', 'text', 'of', 'the', 'printing', 'and', 'typesetting', 'industry', '.', 'Lorem', 'Ipsum', 'has', 'been', 'the', 'industry', \"'s\", 'standard', 'dummy', 'text', 'ever', 'since', 'the', '1500s', ',', 'when', 'an', 'unknown', 'printer', 'took', 'a', 'galley', 'of', 'type', 'and', 'scrambled', 'it', 'to', 'make', 'a', 'type', 'specimen', 'book', '.', 'It', 'has', 'survived', 'not', 'only', 'five', 'centuries', ',', 'but', 'also', 'the', 'leap', 'into', 'electronic', 'typesetting', ',', 'remaining', 'essentially', 'unchanged', '.', 'It', 'was', 'popularised', 'in', 'the', '1960s', 'with', 'the', 'release', 'of', 'Letraset', 'sheets', 'containing', 'Lorem', 'Ipsum', 'passages', ',', 'and', 'more', 'recently', 'with', 'desktop', 'publishing', 'software', 'like', 'Aldus', 'PageMaker', 'including', 'versions', 'of', 'Lorem', 'Ipsum', '.']\n"
          ]
        }
      ]
    },
    {
      "cell_type": "markdown",
      "source": [
        "Convert all tokens into lowercase"
      ],
      "metadata": {
        "id": "qI1c_5YYKm31"
      }
    },
    {
      "cell_type": "code",
      "source": [
        "nlkt_tokens = set(w.lower() for w in nlkt_tokens)\n",
        "print(nlkt_tokens)"
      ],
      "metadata": {
        "colab": {
          "base_uri": "https://localhost:8080/"
        },
        "id": "uj6Q0UcpKprl",
        "outputId": "5f2b7928-c92c-4679-e4c2-8ffd9f0361f2"
      },
      "execution_count": null,
      "outputs": [
        {
          "output_type": "stream",
          "name": "stdout",
          "text": [
            "{'type', '1960s', 'desktop', 'ever', 'has', 'aldus', 'lorem', '.', \"'s\", 'essentially', 'to', 'remaining', 'unchanged', 'make', 'is', 'simply', 'ipsum', 'but', 'containing', 'been', 'letraset', 'more', 'like', 'when', 'since', 'pagemaker', 'was', '?', 'also', 'printer', 'popularised', 'centuries', 'only', 'printing', 'an', 'leap', 'book', 'with', '1500s', 'specimen', 'standard', 'survived', 'including', 'versions', 'recently', 'and', 'not', 'software', 'into', 'scrambled', 'in', 'took', 'of', 'unknown', 'galley', 'five', ',', 'industry', 'what', 'typesetting', 'publishing', 'it', 'release', 'dummy', 'electronic', 'text', 'passages', 'a', 'sheets', 'the'}\n"
          ]
        }
      ]
    },
    {
      "cell_type": "markdown",
      "source": [
        "Removing the stopwords"
      ],
      "metadata": {
        "id": "biETqW8QK6uG"
      }
    },
    {
      "cell_type": "code",
      "source": [
        "# looking at some of the stopwrods in the corpus\n",
        "from nltk.corpus import stopwords\n",
        "stopWords = stopwords.words('english')\n",
        "print(stopWords)"
      ],
      "metadata": {
        "colab": {
          "base_uri": "https://localhost:8080/"
        },
        "id": "O0JwBoEtK-iU",
        "outputId": "968ff10f-ff8c-4f69-e403-95b3969e96b4"
      },
      "execution_count": null,
      "outputs": [
        {
          "output_type": "stream",
          "name": "stdout",
          "text": [
            "['i', 'me', 'my', 'myself', 'we', 'our', 'ours', 'ourselves', 'you', \"you're\", \"you've\", \"you'll\", \"you'd\", 'your', 'yours', 'yourself', 'yourselves', 'he', 'him', 'his', 'himself', 'she', \"she's\", 'her', 'hers', 'herself', 'it', \"it's\", 'its', 'itself', 'they', 'them', 'their', 'theirs', 'themselves', 'what', 'which', 'who', 'whom', 'this', 'that', \"that'll\", 'these', 'those', 'am', 'is', 'are', 'was', 'were', 'be', 'been', 'being', 'have', 'has', 'had', 'having', 'do', 'does', 'did', 'doing', 'a', 'an', 'the', 'and', 'but', 'if', 'or', 'because', 'as', 'until', 'while', 'of', 'at', 'by', 'for', 'with', 'about', 'against', 'between', 'into', 'through', 'during', 'before', 'after', 'above', 'below', 'to', 'from', 'up', 'down', 'in', 'out', 'on', 'off', 'over', 'under', 'again', 'further', 'then', 'once', 'here', 'there', 'when', 'where', 'why', 'how', 'all', 'any', 'both', 'each', 'few', 'more', 'most', 'other', 'some', 'such', 'no', 'nor', 'not', 'only', 'own', 'same', 'so', 'than', 'too', 'very', 's', 't', 'can', 'will', 'just', 'don', \"don't\", 'should', \"should've\", 'now', 'd', 'll', 'm', 'o', 're', 've', 'y', 'ain', 'aren', \"aren't\", 'couldn', \"couldn't\", 'didn', \"didn't\", 'doesn', \"doesn't\", 'hadn', \"hadn't\", 'hasn', \"hasn't\", 'haven', \"haven't\", 'isn', \"isn't\", 'ma', 'mightn', \"mightn't\", 'mustn', \"mustn't\", 'needn', \"needn't\", 'shan', \"shan't\", 'shouldn', \"shouldn't\", 'wasn', \"wasn't\", 'weren', \"weren't\", 'won', \"won't\", 'wouldn', \"wouldn't\"]\n"
          ]
        }
      ]
    },
    {
      "cell_type": "code",
      "source": [
        "import nltk\n",
        "nltk.download('stopwords')\n",
        "\n",
        "from nltk.corpus import stopwords\n",
        "nltk_tokens = nltk.word_tokenize(text)\n",
        "\n",
        "stop_words = set(stopwords.words('english'))\n",
        "\n",
        "wordList = [w for w in nltk_tokens if not w.lower() in stop_words]\n"
      ],
      "metadata": {
        "colab": {
          "base_uri": "https://localhost:8080/"
        },
        "id": "PQauxmbnLCnH",
        "outputId": "26f5ba9b-0e8a-478c-ada2-251d294e2f9b"
      },
      "execution_count": null,
      "outputs": [
        {
          "output_type": "stream",
          "name": "stderr",
          "text": [
            "[nltk_data] Downloading package stopwords to /root/nltk_data...\n",
            "[nltk_data]   Package stopwords is already up-to-date!\n"
          ]
        }
      ]
    },
    {
      "cell_type": "markdown",
      "source": [
        "Remove extra symobls like comma, fullstop and question mark."
      ],
      "metadata": {
        "id": "nY6NUKmbLGRu"
      }
    },
    {
      "cell_type": "code",
      "source": [
        "tokenizer = RegexpTokenizer(r'\\w+')\n",
        "new_token = tokenizer.tokenize(text)\n",
        "new_token"
      ],
      "metadata": {
        "colab": {
          "base_uri": "https://localhost:8080/"
        },
        "id": "QSuci_zaLI-e",
        "outputId": "193990a8-c9fc-439d-bc6b-c5720bc62ff6"
      },
      "execution_count": null,
      "outputs": [
        {
          "output_type": "execute_result",
          "data": {
            "text/plain": [
              "['What',\n",
              " 'is',\n",
              " 'Lorem',\n",
              " 'Ipsum',\n",
              " 'Lorem',\n",
              " 'Ipsum',\n",
              " 'is',\n",
              " 'simply',\n",
              " 'dummy',\n",
              " 'text',\n",
              " 'of',\n",
              " 'the',\n",
              " 'printing',\n",
              " 'and',\n",
              " 'typesetting',\n",
              " 'industry',\n",
              " 'Lorem',\n",
              " 'Ipsum',\n",
              " 'has',\n",
              " 'been',\n",
              " 'the',\n",
              " 'industry',\n",
              " 's',\n",
              " 'standard',\n",
              " 'dummy',\n",
              " 'text',\n",
              " 'ever',\n",
              " 'since',\n",
              " 'the',\n",
              " '1500s',\n",
              " 'when',\n",
              " 'an',\n",
              " 'unknown',\n",
              " 'printer',\n",
              " 'took',\n",
              " 'a',\n",
              " 'galley',\n",
              " 'of',\n",
              " 'type',\n",
              " 'and',\n",
              " 'scrambled',\n",
              " 'it',\n",
              " 'to',\n",
              " 'make',\n",
              " 'a',\n",
              " 'type',\n",
              " 'specimen',\n",
              " 'book',\n",
              " 'It',\n",
              " 'has',\n",
              " 'survived',\n",
              " 'not',\n",
              " 'only',\n",
              " 'five',\n",
              " 'centuries',\n",
              " 'but',\n",
              " 'also',\n",
              " 'the',\n",
              " 'leap',\n",
              " 'into',\n",
              " 'electronic',\n",
              " 'typesetting',\n",
              " 'remaining',\n",
              " 'essentially',\n",
              " 'unchanged',\n",
              " 'It',\n",
              " 'was',\n",
              " 'popularised',\n",
              " 'in',\n",
              " 'the',\n",
              " '1960s',\n",
              " 'with',\n",
              " 'the',\n",
              " 'release',\n",
              " 'of',\n",
              " 'Letraset',\n",
              " 'sheets',\n",
              " 'containing',\n",
              " 'Lorem',\n",
              " 'Ipsum',\n",
              " 'passages',\n",
              " 'and',\n",
              " 'more',\n",
              " 'recently',\n",
              " 'with',\n",
              " 'desktop',\n",
              " 'publishing',\n",
              " 'software',\n",
              " 'like',\n",
              " 'Aldus',\n",
              " 'PageMaker',\n",
              " 'including',\n",
              " 'versions',\n",
              " 'of',\n",
              " 'Lorem',\n",
              " 'Ipsum']"
            ]
          },
          "metadata": {},
          "execution_count": 9
        }
      ]
    },
    {
      "cell_type": "markdown",
      "source": [
        "Generate bigram and trigram"
      ],
      "metadata": {
        "id": "YUhDrI_PLMgX"
      }
    },
    {
      "cell_type": "code",
      "source": [
        "bigrams=list(nltk.bigrams(nltk_tokens))\n",
        "bigrams\n",
        "\n",
        "trigrams=list(nltk.trigrams(nltk_tokens))\n",
        "trigrams"
      ],
      "metadata": {
        "colab": {
          "base_uri": "https://localhost:8080/"
        },
        "id": "CgZyqdNoLPcP",
        "outputId": "ec087573-9351-4653-f310-1bb1e02b4fe9"
      },
      "execution_count": null,
      "outputs": [
        {
          "output_type": "execute_result",
          "data": {
            "text/plain": [
              "[('What', 'is', 'Lorem'),\n",
              " ('is', 'Lorem', 'Ipsum'),\n",
              " ('Lorem', 'Ipsum', '?'),\n",
              " ('Ipsum', '?', 'Lorem'),\n",
              " ('?', 'Lorem', 'Ipsum'),\n",
              " ('Lorem', 'Ipsum', 'is'),\n",
              " ('Ipsum', 'is', 'simply'),\n",
              " ('is', 'simply', 'dummy'),\n",
              " ('simply', 'dummy', 'text'),\n",
              " ('dummy', 'text', 'of'),\n",
              " ('text', 'of', 'the'),\n",
              " ('of', 'the', 'printing'),\n",
              " ('the', 'printing', 'and'),\n",
              " ('printing', 'and', 'typesetting'),\n",
              " ('and', 'typesetting', 'industry'),\n",
              " ('typesetting', 'industry', '.'),\n",
              " ('industry', '.', 'Lorem'),\n",
              " ('.', 'Lorem', 'Ipsum'),\n",
              " ('Lorem', 'Ipsum', 'has'),\n",
              " ('Ipsum', 'has', 'been'),\n",
              " ('has', 'been', 'the'),\n",
              " ('been', 'the', 'industry'),\n",
              " ('the', 'industry', \"'s\"),\n",
              " ('industry', \"'s\", 'standard'),\n",
              " (\"'s\", 'standard', 'dummy'),\n",
              " ('standard', 'dummy', 'text'),\n",
              " ('dummy', 'text', 'ever'),\n",
              " ('text', 'ever', 'since'),\n",
              " ('ever', 'since', 'the'),\n",
              " ('since', 'the', '1500s'),\n",
              " ('the', '1500s', ','),\n",
              " ('1500s', ',', 'when'),\n",
              " (',', 'when', 'an'),\n",
              " ('when', 'an', 'unknown'),\n",
              " ('an', 'unknown', 'printer'),\n",
              " ('unknown', 'printer', 'took'),\n",
              " ('printer', 'took', 'a'),\n",
              " ('took', 'a', 'galley'),\n",
              " ('a', 'galley', 'of'),\n",
              " ('galley', 'of', 'type'),\n",
              " ('of', 'type', 'and'),\n",
              " ('type', 'and', 'scrambled'),\n",
              " ('and', 'scrambled', 'it'),\n",
              " ('scrambled', 'it', 'to'),\n",
              " ('it', 'to', 'make'),\n",
              " ('to', 'make', 'a'),\n",
              " ('make', 'a', 'type'),\n",
              " ('a', 'type', 'specimen'),\n",
              " ('type', 'specimen', 'book'),\n",
              " ('specimen', 'book', '.'),\n",
              " ('book', '.', 'It'),\n",
              " ('.', 'It', 'has'),\n",
              " ('It', 'has', 'survived'),\n",
              " ('has', 'survived', 'not'),\n",
              " ('survived', 'not', 'only'),\n",
              " ('not', 'only', 'five'),\n",
              " ('only', 'five', 'centuries'),\n",
              " ('five', 'centuries', ','),\n",
              " ('centuries', ',', 'but'),\n",
              " (',', 'but', 'also'),\n",
              " ('but', 'also', 'the'),\n",
              " ('also', 'the', 'leap'),\n",
              " ('the', 'leap', 'into'),\n",
              " ('leap', 'into', 'electronic'),\n",
              " ('into', 'electronic', 'typesetting'),\n",
              " ('electronic', 'typesetting', ','),\n",
              " ('typesetting', ',', 'remaining'),\n",
              " (',', 'remaining', 'essentially'),\n",
              " ('remaining', 'essentially', 'unchanged'),\n",
              " ('essentially', 'unchanged', '.'),\n",
              " ('unchanged', '.', 'It'),\n",
              " ('.', 'It', 'was'),\n",
              " ('It', 'was', 'popularised'),\n",
              " ('was', 'popularised', 'in'),\n",
              " ('popularised', 'in', 'the'),\n",
              " ('in', 'the', '1960s'),\n",
              " ('the', '1960s', 'with'),\n",
              " ('1960s', 'with', 'the'),\n",
              " ('with', 'the', 'release'),\n",
              " ('the', 'release', 'of'),\n",
              " ('release', 'of', 'Letraset'),\n",
              " ('of', 'Letraset', 'sheets'),\n",
              " ('Letraset', 'sheets', 'containing'),\n",
              " ('sheets', 'containing', 'Lorem'),\n",
              " ('containing', 'Lorem', 'Ipsum'),\n",
              " ('Lorem', 'Ipsum', 'passages'),\n",
              " ('Ipsum', 'passages', ','),\n",
              " ('passages', ',', 'and'),\n",
              " (',', 'and', 'more'),\n",
              " ('and', 'more', 'recently'),\n",
              " ('more', 'recently', 'with'),\n",
              " ('recently', 'with', 'desktop'),\n",
              " ('with', 'desktop', 'publishing'),\n",
              " ('desktop', 'publishing', 'software'),\n",
              " ('publishing', 'software', 'like'),\n",
              " ('software', 'like', 'Aldus'),\n",
              " ('like', 'Aldus', 'PageMaker'),\n",
              " ('Aldus', 'PageMaker', 'including'),\n",
              " ('PageMaker', 'including', 'versions'),\n",
              " ('including', 'versions', 'of'),\n",
              " ('versions', 'of', 'Lorem'),\n",
              " ('of', 'Lorem', 'Ipsum'),\n",
              " ('Lorem', 'Ipsum', '.')]"
            ]
          },
          "metadata": {},
          "execution_count": 10
        }
      ]
    }
  ]
}