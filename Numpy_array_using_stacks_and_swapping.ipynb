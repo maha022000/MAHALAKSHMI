{
  "nbformat": 4,
  "nbformat_minor": 0,
  "metadata": {
    "colab": {
      "provenance": [],
      "authorship_tag": "ABX9TyO9U5mKqd4M9vJkEnMO5Sx+",
      "include_colab_link": true
    },
    "kernelspec": {
      "name": "python3",
      "display_name": "Python 3"
    },
    "language_info": {
      "name": "python"
    }
  },
  "cells": [
    {
      "cell_type": "markdown",
      "metadata": {
        "id": "view-in-github",
        "colab_type": "text"
      },
      "source": [
        "<a href=\"https://colab.research.google.com/github/maha022000/MAHALAKSHMI/blob/Data-science--projects/Numpy_array_using_stacks_and_swapping.ipynb\" target=\"_parent\"><img src=\"https://colab.research.google.com/assets/colab-badge.svg\" alt=\"Open In Colab\"/></a>"
      ]
    },
    {
      "cell_type": "code",
      "execution_count": null,
      "metadata": {
        "id": "vsg5J1Oy13qN"
      },
      "outputs": [],
      "source": []
    },
    {
      "cell_type": "markdown",
      "source": [
        "Define a NumPy array with 4*5 dimensions, and swap the array's dimensions to\n",
        "make it 5*4 using suitable functions.\n"
      ],
      "metadata": {
        "id": "nXfzj-Qu15RJ"
      }
    },
    {
      "cell_type": "code",
      "source": [
        "import numpy as np\n",
        "x=np.arange(20)\n",
        "print(\"Original array is:\")\n",
        "print(x)\n",
        "y=np.reshape(x,(4,5))\n",
        "print(\"Reshaped array is:\")\n",
        "print(y)\n",
        "z=y.T\n",
        "print(\"Transpose of array :\")\n",
        "print(z)\n"
      ],
      "metadata": {
        "colab": {
          "base_uri": "https://localhost:8080/"
        },
        "id": "d1HNEcxs2mZi",
        "outputId": "7682f4ac-5674-4a48-80a4-ada5ab612abd"
      },
      "execution_count": null,
      "outputs": [
        {
          "output_type": "stream",
          "name": "stdout",
          "text": [
            "Original array is:\n",
            "[ 0  1  2  3  4  5  6  7  8  9 10 11 12 13 14 15 16 17 18 19]\n",
            "Reshaped array is:\n",
            "[[ 0  1  2  3  4]\n",
            " [ 5  6  7  8  9]\n",
            " [10 11 12 13 14]\n",
            " [15 16 17 18 19]]\n",
            "Transpose of array :\n",
            "[[ 0  5 10 15]\n",
            " [ 1  6 11 16]\n",
            " [ 2  7 12 17]\n",
            " [ 3  8 13 18]\n",
            " [ 4  9 14 19]]\n"
          ]
        }
      ]
    },
    {
      "cell_type": "markdown",
      "source": [
        "Write a Python program to create two 2-dimensional arrays and apply\n",
        "hstack(), vstack(), concatenate(), and split() functions to\n",
        "them to get the output as shown below"
      ],
      "metadata": {
        "id": "TBgGGahQ6FfL"
      }
    },
    {
      "cell_type": "code",
      "source": [
        "import numpy as np\n",
        "a=np.arange(1,5).reshape(2,2)\n",
        "print(\"The first array is\")\n",
        "print(a)\n",
        "b=np.arange(6,10).reshape(2,2)\n",
        "print(\"The second array is\")\n",
        "print(b)\n",
        "c=np.stack((a,b))\n",
        "print(\"Applying hstack() function:\")\n",
        "print(c)\n",
        "d=np.vstack((a,b))\n",
        "print(\"applying vsatck() function:\")\n",
        "print(d)\n",
        "e=np.concatenate((a,b),axis=0)\n",
        "print(\"Applying concatenate() fuction:\")\n",
        "print(e)\n",
        "f=np.split(c,2)\n",
        "print(\"applying split() fuction:\")\n",
        "print(f)\n",
        "\n",
        "\n"
      ],
      "metadata": {
        "colab": {
          "base_uri": "https://localhost:8080/"
        },
        "id": "mfZNbaHG6Stc",
        "outputId": "4b499cbd-39f7-4dc6-a1d6-f2bd04052d68"
      },
      "execution_count": null,
      "outputs": [
        {
          "output_type": "stream",
          "name": "stdout",
          "text": [
            "The first array is\n",
            "[[1 2]\n",
            " [3 4]]\n",
            "The second array is\n",
            "[[6 7]\n",
            " [8 9]]\n",
            "Applying hstack() function:\n",
            "[[[1 2]\n",
            "  [3 4]]\n",
            "\n",
            " [[6 7]\n",
            "  [8 9]]]\n",
            "applying vsatck() function:\n",
            "[[1 2]\n",
            " [3 4]\n",
            " [6 7]\n",
            " [8 9]]\n",
            "Applying concatenate() fuction:\n",
            "[[1 2]\n",
            " [3 4]\n",
            " [6 7]\n",
            " [8 9]]\n",
            "applying split() fuction:\n",
            "[array([[[1, 2],\n",
            "        [3, 4]]]), array([[[6, 7],\n",
            "        [8, 9]]])]\n"
          ]
        }
      ]
    },
    {
      "cell_type": "code",
      "source": [],
      "metadata": {
        "id": "RH4BwHpH2fy-"
      },
      "execution_count": null,
      "outputs": []
    },
    {
      "cell_type": "code",
      "source": [],
      "metadata": {
        "id": "8rYDatg94l0Y"
      },
      "execution_count": null,
      "outputs": []
    },
    {
      "cell_type": "code",
      "source": [],
      "metadata": {
        "id": "AlQNvdQt2RLs"
      },
      "execution_count": null,
      "outputs": []
    },
    {
      "cell_type": "markdown",
      "source": [],
      "metadata": {
        "id": "tRIxyQTK2Tit"
      }
    },
    {
      "cell_type": "code",
      "source": [
        "\n"
      ],
      "metadata": {
        "id": "g2b2N-te2BRJ"
      },
      "execution_count": null,
      "outputs": []
    }
  ]
}