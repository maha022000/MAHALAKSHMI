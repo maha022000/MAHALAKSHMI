{
  "nbformat": 4,
  "nbformat_minor": 0,
  "metadata": {
    "colab": {
      "provenance": [],
      "authorship_tag": "ABX9TyNTsdOiYyl7ooAOP2znDJ+3",
      "include_colab_link": true
    },
    "kernelspec": {
      "name": "python3",
      "display_name": "Python 3"
    },
    "language_info": {
      "name": "python"
    }
  },
  "cells": [
    {
      "cell_type": "markdown",
      "metadata": {
        "id": "view-in-github",
        "colab_type": "text"
      },
      "source": [
        "<a href=\"https://colab.research.google.com/github/maha022000/MAHALAKSHMI/blob/Data-science--projects/Creating_panda_series.ipynb\" target=\"_parent\"><img src=\"https://colab.research.google.com/assets/colab-badge.svg\" alt=\"Open In Colab\"/></a>"
      ]
    },
    {
      "cell_type": "code",
      "execution_count": null,
      "metadata": {
        "id": "zDqRNiAcrDHI"
      },
      "outputs": [],
      "source": []
    },
    {
      "cell_type": "markdown",
      "source": [
        "Write a Python program to create two lists -one for countries and another for country codes. Create a pandas series from these two lists with the codes as the index. Print the length, shape, and size of the series too."
      ],
      "metadata": {
        "id": "5qm5FeTIrEYO"
      }
    },
    {
      "cell_type": "code",
      "source": [
        "import pandas as pd\n",
        "a=['India','Canada','Austaralia','Japan','Germany','France']\n",
        "b=['IND','CAN','AUS','JAP','GER','FRAN']\n",
        "series=pd.Series(a,b)\n",
        "print(series)\n",
        "print('Lenghth of the series:',len(series))\n",
        "print('shape of the series: ',series.shape)\n",
        "print('size of the series:' ,series.size)"
      ],
      "metadata": {
        "colab": {
          "base_uri": "https://localhost:8080/"
        },
        "id": "Z0BDmh-SrgQz",
        "outputId": "c3389b00-36b6-4e93-de50-6b3118506cec"
      },
      "execution_count": null,
      "outputs": [
        {
          "output_type": "stream",
          "name": "stdout",
          "text": [
            "IND          India\n",
            "CAN         Canada\n",
            "AUS     Austaralia\n",
            "JAP          Japan\n",
            "GER        Germany\n",
            "FRAN        France\n",
            "dtype: object\n",
            "Lenghth of the series: 6\n",
            "shape of the series:  (6,)\n",
            "size of the series: 6\n"
          ]
        }
      ]
    },
    {
      "cell_type": "markdown",
      "source": [
        "Write a Python program that reads Name, Age, and Roll no. as input from the\n",
        "user and stores it into a DataFrame, and printsthe DataFrame you have created."
      ],
      "metadata": {
        "id": "Ohi9061ZxYOq"
      }
    },
    {
      "cell_type": "code",
      "source": [
        "import pandas as pd\n",
        "R=int(input(\"Enter the number of students record you want to store:\"))\n",
        "name=[]\n",
        "age=[]\n",
        "rollno=[]\n",
        "for i in range(R):\n",
        "  name.append(input(\"Enter the name:\"))\n",
        "  age.append(int(input(\"Enter the age:\")))\n",
        "  rollno.append(int(input(\"Enter the rollno:\")))\n",
        "b=pd.DataFrame({'name':name,'Age':age,'Rollno':rollno})\n",
        "print(\"the Data frame is-______________\")\n",
        "print(b)"
      ],
      "metadata": {
        "colab": {
          "base_uri": "https://localhost:8080/"
        },
        "id": "pYT2PllnxlZD",
        "outputId": "6e5c5433-d50b-4482-ab62-ec20ad3ab146"
      },
      "execution_count": null,
      "outputs": [
        {
          "output_type": "stream",
          "name": "stdout",
          "text": [
            "Enter the number of students record you want to store:2\n",
            "Enter the name:maha\n",
            "Enter the age:22\n",
            "Enter the rollno:32\n",
            "Enter the name:priya\n",
            "Enter the age:24\n",
            "Enter the rollno:34\n",
            "the Data frame is-______________\n",
            "    name  Age  Rollno\n",
            "0   maha   22      32\n",
            "1  priya   24      34\n"
          ]
        }
      ]
    }
  ]
}