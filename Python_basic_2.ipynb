{
  "nbformat": 4,
  "nbformat_minor": 0,
  "metadata": {
    "colab": {
      "provenance": [],
      "authorship_tag": "ABX9TyOLSs0N7mcMjAkd46BwrK/j",
      "include_colab_link": true
    },
    "kernelspec": {
      "name": "python3",
      "display_name": "Python 3"
    },
    "language_info": {
      "name": "python"
    }
  },
  "cells": [
    {
      "cell_type": "markdown",
      "metadata": {
        "id": "view-in-github",
        "colab_type": "text"
      },
      "source": [
        "<a href=\"https://colab.research.google.com/github/maha022000/MAHALAKSHMI/blob/main/Python_basic_2.ipynb\" target=\"_parent\"><img src=\"https://colab.research.google.com/assets/colab-badge.svg\" alt=\"Open In Colab\"/></a>"
      ]
    },
    {
      "cell_type": "code",
      "execution_count": null,
      "metadata": {
        "id": "W7Z2UeHYK-3w"
      },
      "outputs": [],
      "source": []
    },
    {
      "cell_type": "markdown",
      "source": [
        "Write  a  Python  program  that  takes  marks  as  input  for  six  subjects, with maximum  marks   being  600, and prints  total  marks,  average  marks,  and percentagesobtained by a student.\n"
      ],
      "metadata": {
        "id": "4CI3aH47K_lD"
      }
    },
    {
      "cell_type": "code",
      "source": [
        "subject=input(\"Enter the marks of all six subjects one by one :: \")\n",
        "subject_a=float(input(\"Enter the marks out of 100 obatined in subject- 1:\"))\n",
        "subject_b=float(input(\"Enter the marks out of 100 obatined in subject- 2:\"))\n",
        "subject_c=float(input(\"Enter the marks out of 100 obtained in subject-3:\"))\n",
        "subject_d=float(input(\"Enter the marks out of 100 obtained in subject-4:\"))\n",
        "subject_e=float(input(\"Enter the marks out of 100 obtained in subject-5:\"))\n",
        "subject_f=float(input(\"Enter the marks out of 100 obatained in subject-6:\"))\n",
        "total=subject_a+subject_b+subject_c+subject_d+subject_e+subject_f\n",
        "average=total/6\n",
        "percentage=(total/600)*100\n",
        "print(\"\\nTotal marks obtained : %.2f\" %total)\n",
        "print(\"Average marks obtained : %.2f\" %average)\n",
        "print(\"Percentage obatained : %.2f\" %percentage)\n"
      ],
      "metadata": {
        "colab": {
          "base_uri": "https://localhost:8080/"
        },
        "id": "uELIgSqaLILQ",
        "outputId": "f750fc06-07f5-4bca-c3be-007e2d0163b8"
      },
      "execution_count": null,
      "outputs": [
        {
          "output_type": "stream",
          "name": "stdout",
          "text": [
            "Enter the marks of all six subjects one by one :: \n",
            "Enter the marks out of 100 obatined in subject- 1:76\n",
            "Enter the marks out of 100 obatined in subject- 2:56\n",
            "Enter the marks out of 100 obtained in subject-3:78\n",
            "Enter the marks out of 100 obtained in subject-4:75\n",
            "Enter the marks out of 100 obtained in subject-5:69\n",
            "Enter the marks out of 100 obatained in subject-6:74\n",
            "\n",
            "Total marks obtained : 428.00\n",
            "Average marks obtained : 71.33\n",
            "Percentage obatained : 71.33\n"
          ]
        }
      ]
    },
    {
      "cell_type": "markdown",
      "source": [
        "Declare a nested list with Exam scores and Student names as shown here -\n",
        "\"score=[[510, 'John'],[280, 'Lucy']……]\".Write a Python program\n",
        "to sort the list based on scores and print the students' names with first and\n",
        "second-highest scores."
      ],
      "metadata": {
        "id": "tFLBpWOeVmy4"
      }
    },
    {
      "cell_type": "code",
      "source": [
        "a = [[65,'harshit'],[64,'jay'],[55,'sachin'],[558,'vishal'],[255,'vinay']]\n",
        "a.sort()\n",
        "a.reverse() \n",
        "print(a)\n",
        "print(\"Student with highest marks is :\",a[0][1])\n",
        "print (\"Student with second highest mark is :\",a[1][1])"
      ],
      "metadata": {
        "colab": {
          "base_uri": "https://localhost:8080/"
        },
        "id": "_ccmhvBLVy1X",
        "outputId": "23ed55bc-8638-443d-f2e2-b848e5c04da4"
      },
      "execution_count": null,
      "outputs": [
        {
          "output_type": "stream",
          "name": "stdout",
          "text": [
            "[[558, 'vishal'], [255, 'vinay'], [65, 'harshit'], [64, 'jay'], [55, 'sachin']]\n",
            "Student with highest marks is : vishal\n",
            "Student with second highest mark is : vinay\n"
          ]
        }
      ]
    }
  ]
}