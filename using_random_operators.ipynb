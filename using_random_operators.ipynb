{
  "nbformat": 4,
  "nbformat_minor": 0,
  "metadata": {
    "colab": {
      "provenance": [],
      "authorship_tag": "ABX9TyPkn6cIzDWbtjGvhn+8h4mS",
      "include_colab_link": true
    },
    "kernelspec": {
      "name": "python3",
      "display_name": "Python 3"
    },
    "language_info": {
      "name": "python"
    }
  },
  "cells": [
    {
      "cell_type": "markdown",
      "metadata": {
        "id": "view-in-github",
        "colab_type": "text"
      },
      "source": [
        "<a href=\"https://colab.research.google.com/github/maha022000/MAHALAKSHMI/blob/Data-science--projects/using_random_operators.ipynb\" target=\"_parent\"><img src=\"https://colab.research.google.com/assets/colab-badge.svg\" alt=\"Open In Colab\"/></a>"
      ]
    },
    {
      "cell_type": "code",
      "execution_count": null,
      "metadata": {
        "id": "Tytv_dKihCZP"
      },
      "outputs": [],
      "source": []
    },
    {
      "cell_type": "markdown",
      "source": [
        "Write a Python program to create a math quiz that generates math questions using  random  numbers  and  operators  and  asks  the  user  to  enter  the  correct answer; evaluate the answer entered by the user and print a message whether the answer is correct or incorrect."
      ],
      "metadata": {
        "id": "-mjExnhyhD6Y"
      }
    },
    {
      "cell_type": "code",
      "source": [
        "name=input(\"what is your name ?\")\n",
        "print(\"Alright\",name,\"Welcome to maths quiz\")\n",
        "import random\n",
        "a=random.randint(0,10)\n",
        "b=random.randint(0,10)\n",
        "q=['+,','-','*','/']\n",
        "c=random.choice(q)\n",
        "print(\"your question is: \",a,c,b)\n",
        "d=eval(str(a)+c+str(b))\n",
        "e=int(input(\"what is your answer ?\"))\n",
        "if(e==d):\n",
        "  print(\"correct answer\")\n",
        "else:\n",
        "  print(\"incorrect\", \"The correct answer is \",d)\n",
        "       \n",
        "\n"
      ],
      "metadata": {
        "colab": {
          "base_uri": "https://localhost:8080/"
        },
        "id": "JndQ21lUlhJ8",
        "outputId": "98781205-4e52-44b0-b06a-d60fe94ee135"
      },
      "execution_count": null,
      "outputs": [
        {
          "output_type": "stream",
          "name": "stdout",
          "text": [
            "what is your name ?shubham\n",
            "Alright shubham Welcome to maths quiz\n",
            "your question is:  3 * 0\n",
            "what is your answer ?1\n",
            "incorrect The correct answer is  0\n"
          ]
        }
      ]
    },
    {
      "cell_type": "markdown",
      "source": [
        "Write a Python program to create a math quiz that generates math questions\n",
        "using random numbers and operators and asks the user to enter the correct\n",
        "answer; evaluate the answer entered by the user and print a message whether\n",
        "the answer is correct or incorrect."
      ],
      "metadata": {
        "id": "l8IRwS9-9jUN"
      }
    },
    {
      "cell_type": "code",
      "source": [
        "from os import supports_effective_ids\n",
        "class vechile:\n",
        "  def __init__(self,name,speed,milleage):\n",
        "    self.name=name\n",
        "    self.speed=speed\n",
        "    self.milleage=milleage\n",
        "class Bus(vechile):\n",
        "  pass\n",
        "bus=Bus(\"Volvo Bus\",220,14)\n",
        "print(\"Vechile Name:\" ,bus.name,\"Speed:\", bus.speed,\"milleage:\",bus.milleage)\n",
        "    "
      ],
      "metadata": {
        "id": "99yUtGR29mdc",
        "colab": {
          "base_uri": "https://localhost:8080/"
        },
        "outputId": "54c8e218-0ee3-4a5b-89ae-d91c7a98e746"
      },
      "execution_count": null,
      "outputs": [
        {
          "output_type": "stream",
          "name": "stdout",
          "text": [
            "Vechile Name: Volvo Bus Speed: 220 milleage: 14\n"
          ]
        }
      ]
    }
  ]
}