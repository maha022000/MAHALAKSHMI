{
  "nbformat": 4,
  "nbformat_minor": 0,
  "metadata": {
    "colab": {
      "provenance": [],
      "authorship_tag": "ABX9TyMt9v+C45m5/MflUuffrk43",
      "include_colab_link": true
    },
    "kernelspec": {
      "name": "python3",
      "display_name": "Python 3"
    },
    "language_info": {
      "name": "python"
    }
  },
  "cells": [
    {
      "cell_type": "markdown",
      "metadata": {
        "id": "view-in-github",
        "colab_type": "text"
      },
      "source": [
        "<a href=\"https://colab.research.google.com/github/maha022000/MAHALAKSHMI/blob/Data-science--projects/Probability_events.ipynb\" target=\"_parent\"><img src=\"https://colab.research.google.com/assets/colab-badge.svg\" alt=\"Open In Colab\"/></a>"
      ]
    },
    {
      "cell_type": "markdown",
      "source": [
        "1. Problem statement(Probability of an event)Consider that you have a coin and dice. Each time you roll them, you get a result, so try to solve the given questions based on coins an"
      ],
      "metadata": {
        "id": "1aBNU1cZYOIl"
      }
    },
    {
      "cell_type": "markdown",
      "source": [
        "1.Roll the dice twice and find the probability of getting the number 6 each time."
      ],
      "metadata": {
        "id": "SyBvlIM47J8O"
      }
    },
    {
      "cell_type": "code",
      "source": [
        "import pandas as pd"
      ],
      "metadata": {
        "id": "zhYZAgw08EEi"
      },
      "execution_count": null,
      "outputs": []
    },
    {
      "cell_type": "code",
      "source": [
        "total_outcome=36\n",
        "possible_outcome=1\n",
        "probability=round(possible_outcome/total_outcome,3)\n",
        "print(\"probaility of getting number 6 0n each dice is\",probability)"
      ],
      "metadata": {
        "colab": {
          "base_uri": "https://localhost:8080/"
        },
        "id": "T-_qNyha7OHe",
        "outputId": "a5e320d7-558a-4bf6-a57d-548bdd4a2dcf"
      },
      "execution_count": null,
      "outputs": [
        {
          "output_type": "stream",
          "name": "stdout",
          "text": [
            "probaility of getting number 6 0n each dice is 0.028\n"
          ]
        }
      ]
    },
    {
      "cell_type": "markdown",
      "source": [
        "Roll two dice at a time and find the probability of getting a sum of both dice greater than 9"
      ],
      "metadata": {
        "id": "tqbWudhf8VrL"
      }
    },
    {
      "cell_type": "code",
      "source": [
        "total_outcome=36\n",
        "possible_outcome=6\n",
        "proability=round(possible_outcome/total_outcome,3)\n",
        "print(\"proability of getting sum of both dice more than 9 is: \",proability)"
      ],
      "metadata": {
        "colab": {
          "base_uri": "https://localhost:8080/"
        },
        "id": "x_pAFBI28eJx",
        "outputId": "6bf14b50-8a8b-4946-ca2b-6238ff86928b"
      },
      "execution_count": null,
      "outputs": [
        {
          "output_type": "stream",
          "name": "stdout",
          "text": [
            "proability of getting sum of both dice more than 9 is:  0.167\n"
          ]
        }
      ]
    },
    {
      "cell_type": "markdown",
      "source": [
        "3.Flip a coin three times continuously and find the probability of getting three heads in a row"
      ],
      "metadata": {
        "id": "Xh4_RrWs9TfY"
      }
    },
    {
      "cell_type": "code",
      "source": [
        "total_outcome=8\n",
        "possible_outcome=1\n",
        "proability=round(possible_outcome/total_outcome,3)\n",
        "print(\"proability of getting three heads in a row is: \",proability)\n"
      ],
      "metadata": {
        "colab": {
          "base_uri": "https://localhost:8080/"
        },
        "id": "QEoet20D9fbW",
        "outputId": "483c193a-1151-4901-9af3-0c5ee575bfcd"
      },
      "execution_count": null,
      "outputs": [
        {
          "output_type": "stream",
          "name": "stdout",
          "text": [
            "proability of getting three heads in a row is:  0.125\n"
          ]
        }
      ]
    },
    {
      "cell_type": "markdown",
      "source": [
        "4.Flip a coin and dice simultaneously and find the probability of getting head on the coin and number 5 on the dice simultaneously."
      ],
      "metadata": {
        "id": "eXwyF8ZQ-Osc"
      }
    },
    {
      "cell_type": "code",
      "source": [
        "coin_head=1\n",
        "ss_coin=2\n",
        "dice=1\n",
        "ss_dice=6\n",
        "proability=(round((coin_head/ss_coin)*(dice/ss_dice),3))\n",
        "print(\"proability of getting head on the coin and number 5 on the dice is:\",proability)\n"
      ],
      "metadata": {
        "colab": {
          "base_uri": "https://localhost:8080/"
        },
        "id": "sG0KLxmE-WGv",
        "outputId": "3e3dff0f-d2ad-45c5-b669-06f54fba2129"
      },
      "execution_count": null,
      "outputs": [
        {
          "output_type": "stream",
          "name": "stdout",
          "text": [
            "proability of getting head on the coin and number 5 on the dice is: 0.083\n"
          ]
        }
      ]
    },
    {
      "cell_type": "markdown",
      "source": [
        "5.Card is drawn at random from the pack of 52 cards:I.Find the probability that it is an honor card.II.It is a face card of a diamond house."
      ],
      "metadata": {
        "id": "pjUQUjwO_Rlq"
      }
    },
    {
      "cell_type": "code",
      "source": [
        "total_honour_cards=16\n",
        "total_outcome=52\n",
        "proability=round(total_honour_cards/total_outcome,3)\n",
        "print(\"proability of getting an honour card is:\",proability)\n",
        "                 \n",
        "\n"
      ],
      "metadata": {
        "colab": {
          "base_uri": "https://localhost:8080/"
        },
        "id": "TrrFs2xs_6Bw",
        "outputId": "37180726-8939-414f-95d4-94c665952f31"
      },
      "execution_count": null,
      "outputs": [
        {
          "output_type": "stream",
          "name": "stdout",
          "text": [
            "proability of getting an honour card is: 0.308\n"
          ]
        }
      ]
    },
    {
      "cell_type": "markdown",
      "source": [
        "II.It is a face card of a diamond house"
      ],
      "metadata": {
        "id": "dRJ3hgseByxP"
      }
    },
    {
      "cell_type": "code",
      "source": [
        "toatal_face_cards_diamond=3\n",
        "total_outcome=52\n",
        "proability=round(toatal_face_cards_diamond/total_outcome,3)\n",
        "print(\"proability of getting face cards of diamond is:\",proability)"
      ],
      "metadata": {
        "colab": {
          "base_uri": "https://localhost:8080/"
        },
        "id": "AXI0ktEUCEIv",
        "outputId": "7eb0721f-8d83-49b9-a714-9e6720cd81af"
      },
      "execution_count": null,
      "outputs": [
        {
          "output_type": "stream",
          "name": "stdout",
          "text": [
            "proability of getting face cards of diamond is: 0.058\n"
          ]
        }
      ]
    },
    {
      "cell_type": "markdown",
      "source": [
        "In a class of 100 students, a survey was conducted for their favorite subject,\n",
        "where they could choose only one subject as their favorite. 23 boys and 15 girls\n",
        "like Maths, 17 boys and 23 girls like Science, and 10 boys and 12 girls like English.\n",
        "If we choose a random student out of them, find out the probability, where,\n",
        "1. Students love Science subject"
      ],
      "metadata": {
        "id": "jx8_4aeUERsK"
      }
    },
    {
      "cell_type": "code",
      "source": [
        "import pandas as pd"
      ],
      "metadata": {
        "id": "AhzkU1IGwiW0"
      },
      "execution_count": null,
      "outputs": []
    },
    {
      "cell_type": "code",
      "source": [
        "Total_Boys_love_science=17\n",
        "Total_girls_love_science=23\n",
        "Total_students_loves_science=(Total_girls_love_science)+(Total_Boys_love_science)\n",
        "Total_students=100\n",
        "proability=round(Total_students_loves_science/Total_students,2)\n",
        "print(\"Proability of student loving science is\",proability)\n"
      ],
      "metadata": {
        "colab": {
          "base_uri": "https://localhost:8080/"
        },
        "id": "ocwBJuTYxGd0",
        "outputId": "5be9ce84-9e8e-44f4-fc02-d2d19e4c1464"
      },
      "execution_count": null,
      "outputs": [
        {
          "output_type": "stream",
          "name": "stdout",
          "text": [
            "Proability of student loving science is 0.4\n"
          ]
        }
      ]
    },
    {
      "cell_type": "markdown",
      "source": [
        "2. Girls love Maths subject or English subject."
      ],
      "metadata": {
        "id": "hxzI7mfqkXA4"
      }
    },
    {
      "cell_type": "code",
      "source": [
        "#Girls love Maths subject or English subject\n",
        "Girls_maths_sub=15\n",
        "Girls_Eng_sub=12\n",
        "Total_Girls=Girls_maths_sub+Girls_Eng_sub\n",
        "Total_students=100\n",
        "proability=round(Total_Girls/Total_students,2)\n",
        "print(\"Proability of girls loving maths subject or english subject is\",proability)\n",
        "\n",
        "\n"
      ],
      "metadata": {
        "colab": {
          "base_uri": "https://localhost:8080/"
        },
        "id": "5rep9ShkkvPJ",
        "outputId": "c1b06fa5-39cb-4a23-8ba7-4db9041090bf"
      },
      "execution_count": null,
      "outputs": [
        {
          "output_type": "stream",
          "name": "stdout",
          "text": [
            "Proability of girls loving maths subject or english subject is 0.27\n"
          ]
        }
      ]
    },
    {
      "cell_type": "markdown",
      "source": [
        "3. If she is a girl, she loves English, or if he is a boy, then he loves Maths"
      ],
      "metadata": {
        "id": "vccRgQRioQP2"
      }
    },
    {
      "cell_type": "code",
      "source": [
        "if_girl_eng=12\n",
        "if_boy_maths=23\n",
        "total=if_girl_eng+if_boy_maths\n",
        "total_students=100\n",
        "proability=round(total/total_students,2)\n",
        "print(\"Proability if she is a girl she loves eng or boy loves maths is\",proability)\n"
      ],
      "metadata": {
        "colab": {
          "base_uri": "https://localhost:8080/"
        },
        "id": "eNbrjjHhoV9-",
        "outputId": "0e5129d6-5030-493c-f29e-23e42fb91402"
      },
      "execution_count": null,
      "outputs": [
        {
          "output_type": "stream",
          "name": "stdout",
          "text": [
            "Proability if she is a girl she loves eng or boy loves maths is 0.35\n"
          ]
        }
      ]
    }
  ]
}