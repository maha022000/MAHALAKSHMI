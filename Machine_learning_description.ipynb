{
  "nbformat": 4,
  "nbformat_minor": 0,
  "metadata": {
    "colab": {
      "provenance": [],
      "authorship_tag": "ABX9TyNZQx0WQqzRvWVd/nvglHeD",
      "include_colab_link": true
    },
    "kernelspec": {
      "name": "python3",
      "display_name": "Python 3"
    },
    "language_info": {
      "name": "python"
    }
  },
  "cells": [
    {
      "cell_type": "markdown",
      "metadata": {
        "id": "view-in-github",
        "colab_type": "text"
      },
      "source": [
        "<a href=\"https://colab.research.google.com/github/maha022000/MAHALAKSHMI/blob/Machine-leaning/Machine_learning_description.ipynb\" target=\"_parent\"><img src=\"https://colab.research.google.com/assets/colab-badge.svg\" alt=\"Open In Colab\"/></a>"
      ]
    },
    {
      "cell_type": "markdown",
      "source": [
        "Q1. Explain the terms Artificial Intelligence (AI), Machine Learning\n",
        "(ML) and Deep Learning."
      ],
      "metadata": {
        "id": "uInw1-aOQpTO"
      }
    },
    {
      "cell_type": "markdown",
      "source": [
        "Artificial Intelligence (AI):AI refers to the stimulation of human intelligence in machines that are programmed to think like humans and mimic their actions.The term may also be applied to any machine that exhibits traits associated with a human mind such as learning and problem solving.\n",
        "\n",
        "Machine Learning(ML):It is a subset of Artificial Intelligence(AI).It permits the system to automatically learn and improve from experience without being explicitly programmed.\n",
        "\n",
        "Deep Learning:It is subset of Machine Learning(ML),which is essentially a neutral network with three or more layers.These neutral networks attempt to stimulate the behaviour or human brain."
      ],
      "metadata": {
        "id": "SbZFX-nlRBWR"
      }
    },
    {
      "cell_type": "markdown",
      "source": [
        "Q2. Explain Supervised Learning\n"
      ],
      "metadata": {
        "id": "6MhNGA5JVJBJ"
      }
    },
    {
      "cell_type": "markdown",
      "source": [
        "Learning from labeled data and applying the knowledge to predict the label of the new data(data test) is known as supervised learning."
      ],
      "metadata": {
        "id": "7XGL8vfPVYDw"
      }
    },
    {
      "cell_type": "markdown",
      "source": [
        "Q3. Explain Unsupervised Learning."
      ],
      "metadata": {
        "id": "bjK6BPn5VwyL"
      }
    },
    {
      "cell_type": "markdown",
      "source": [
        "The learning method which has the technique of grouping/clustering the unlabeled data together based on its physical characteristics and predicting the cluster of the new data(test data) is known as unsupervised learning."
      ],
      "metadata": {
        "id": "zfuZn4IrWXEA"
      }
    },
    {
      "cell_type": "markdown",
      "source": [
        "Q4. Explain Reinforcement Learning."
      ],
      "metadata": {
        "id": "1sc5uC8OXU-u"
      }
    },
    {
      "cell_type": "markdown",
      "source": [
        "It is a hit and trial method of learning .The machine gets a reward or penalty point for each action it performs.If the option is correct the machine gains the reward point.If the option is incorrect, the machine gets a penalty point."
      ],
      "metadata": {
        "id": "OxmycrBRX2Gu"
      }
    },
    {
      "cell_type": "markdown",
      "source": [
        "Q5. How to find the best machine learning algorithm for your\n",
        "problem?"
      ],
      "metadata": {
        "id": "1FDKBkqgZEa1"
      }
    },
    {
      "cell_type": "markdown",
      "source": [
        "1-Understand your problem\n",
        "2-Analyse your data by size,processing and Annotation Required.\n",
        "3-Evaluate the speed and training time.\n",
        "4-Find out the linearity of your data.\n",
        "5-Decide on the number of features and parameters."
      ],
      "metadata": {
        "id": "40RjgyXKZIvd"
      }
    }
  ]
}